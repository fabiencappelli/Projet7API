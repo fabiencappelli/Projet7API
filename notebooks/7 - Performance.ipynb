{
 "cells": [
  {
   "cell_type": "code",
   "execution_count": null,
   "metadata": {
    "colab": {
     "base_uri": "https://localhost:8080/"
    },
    "executionInfo": {
     "elapsed": 35455,
     "status": "ok",
     "timestamp": 1747865369918,
     "user": {
      "displayName": "Fabien Cappelli",
      "userId": "13665664238437409195"
     },
     "user_tz": -60
    },
    "id": "GOKv0NtUYp-6",
    "outputId": "d0c096de-0427-486c-8073-caf55527a64c"
   },
   "outputs": [],
   "source": [
    "!pip install mlflow dagshub --quiet"
   ]
  },
  {
   "cell_type": "code",
   "execution_count": null,
   "metadata": {
    "executionInfo": {
     "elapsed": 8380,
     "status": "ok",
     "timestamp": 1747865378297,
     "user": {
      "displayName": "Fabien Cappelli",
      "userId": "13665664238437409195"
     },
     "user_tz": -60
    },
    "id": "rRCIU9nVY10w"
   },
   "outputs": [],
   "source": [
    "import os\n",
    "import mlflow\n",
    "from mlflow.tracking import MlflowClient\n",
    "import dagshub\n",
    "from google.colab import userdata\n",
    "import pandas as pd\n",
    "import matplotlib.pyplot as plt\n",
    "import seaborn as sns\n",
    "from matplotlib import rcParams\n",
    "import matplotlib.font_manager as fm"
   ]
  },
  {
   "cell_type": "code",
   "execution_count": null,
   "metadata": {
    "executionInfo": {
     "elapsed": 1992,
     "status": "ok",
     "timestamp": 1747866354403,
     "user": {
      "displayName": "Fabien Cappelli",
      "userId": "13665664238437409195"
     },
     "user_tz": -60
    },
    "id": "b4KAEGYN8z1U"
   },
   "outputs": [],
   "source": [
    "font_path = os.path.expanduser(\"/content/drive/MyDrive/Colab Notebooks/fonts/Exo2-VariableFont_wght.ttf\")  # Remplacez par le chemin exact\n",
    "fm.fontManager.addfont(font_path)\n",
    "\n",
    "# Définir la police globale avec le nom de la police\n",
    "rcParams[\"font.family\"] = \"Exo 2\"\n",
    "# deux couleurs pertinentes pour aller avec la présentation\n",
    "bleuclair = (0.15, 0.55, 0.82)\n",
    "couleur_complementaire = (1 - bleuclair[0], 1 - bleuclair[1], 1 - bleuclair[2])\n",
    "bleufonce = \"#073642\"\n",
    "\n",
    "imgPrezPath = '/content/drive/MyDrive/Colab Notebooks/Projet_07/presentationimg'"
   ]
  },
  {
   "cell_type": "code",
   "execution_count": null,
   "metadata": {
    "colab": {
     "base_uri": "https://localhost:8080/",
     "height": 69
    },
    "executionInfo": {
     "elapsed": 1155,
     "status": "ok",
     "timestamp": 1747865379464,
     "user": {
      "displayName": "Fabien Cappelli",
      "userId": "13665664238437409195"
     },
     "user_tz": -60
    },
    "id": "zbpuMkB4ZA6y",
    "outputId": "ab9255e0-9fc6-4db3-a4ce-c1418dcbfdcc"
   },
   "outputs": [],
   "source": [
    "# Récupère automatiquement le secret\n",
    "dagshub_token = userdata.get('DAGSHUB_TOKEN')\n",
    "\n",
    "# Initialisation Dagshub\n",
    "dagshub.auth.add_app_token(dagshub_token)\n",
    "\n",
    "# Connecter MLflow à Dagshub\n",
    "dagshub.init(repo_owner='fabiencappelli', repo_name='Projet_07', mlflow=True)\n",
    "\n",
    "# Configure MLflow pour pointer vers Dagshub\n",
    "mlflow.set_tracking_uri('https://dagshub.com/fabiencappelli/Projet_07.mlflow')"
   ]
  },
  {
   "cell_type": "code",
   "execution_count": null,
   "metadata": {
    "executionInfo": {
     "elapsed": 13,
     "status": "ok",
     "timestamp": 1747865379482,
     "user": {
      "displayName": "Fabien Cappelli",
      "userId": "13665664238437409195"
     },
     "user_tz": -60
    },
    "id": "z9OG09GxGYiC"
   },
   "outputs": [],
   "source": [
    "client = MlflowClient()"
   ]
  },
  {
   "cell_type": "code",
   "execution_count": null,
   "metadata": {
    "executionInfo": {
     "elapsed": 254,
     "status": "ok",
     "timestamp": 1747865628395,
     "user": {
      "displayName": "Fabien Cappelli",
      "userId": "13665664238437409195"
     },
     "user_tz": -60
    },
    "id": "UJvTNsxoGcPv"
   },
   "outputs": [],
   "source": [
    "experiments = client.search_experiments()"
   ]
  },
  {
   "cell_type": "code",
   "execution_count": null,
   "metadata": {
    "executionInfo": {
     "elapsed": 11,
     "status": "ok",
     "timestamp": 1747865379759,
     "user": {
      "displayName": "Fabien Cappelli",
      "userId": "13665664238437409195"
     },
     "user_tz": -60
    },
    "id": "9Oy-jXy8MMU6"
   },
   "outputs": [],
   "source": [
    "def get_artifact_size_bytes(run_id, path=\"model\"):\n",
    "    total = 0\n",
    "    for info in client.list_artifacts(run_id, path=path):\n",
    "        if info.is_dir:\n",
    "            total += get_artifact_size_bytes(run_id, info.path)\n",
    "        else:\n",
    "            total += info.file_size or 0\n",
    "    return total"
   ]
  },
  {
   "cell_type": "code",
   "execution_count": null,
   "metadata": {
    "colab": {
     "base_uri": "https://localhost:8080/"
    },
    "executionInfo": {
     "elapsed": 34,
     "status": "ok",
     "timestamp": 1747865632357,
     "user": {
      "displayName": "Fabien Cappelli",
      "userId": "13665664238437409195"
     },
     "user_tz": -60
    },
    "id": "uEn8Xi8MGgmj",
    "outputId": "76d78da8-cea7-4477-fd6b-42b69bd32afe"
   },
   "outputs": [],
   "source": [
    "for exp in experiments:\n",
    "    print(f\"- {exp.name}  (ID: {exp.experiment_id})\")"
   ]
  },
  {
   "cell_type": "code",
   "execution_count": null,
   "metadata": {
    "colab": {
     "base_uri": "https://localhost:8080/"
    },
    "executionInfo": {
     "elapsed": 21349,
     "status": "ok",
     "timestamp": 1747866162093,
     "user": {
      "displayName": "Fabien Cappelli",
      "userId": "13665664238437409195"
     },
     "user_tz": -60
    },
    "id": "JE90sPUzHuta",
    "outputId": "0310d957-b027-46ba-be60-af43dbbb363d"
   },
   "outputs": [],
   "source": [
    "rows = []\n",
    "for exp in experiments:\n",
    "    # On prend le dernier run terminé avec succès\n",
    "    runs = client.search_runs(\n",
    "        experiment_ids=[exp.experiment_id],\n",
    "        filter_string=\"attributes.status = 'FINISHED'\",\n",
    "        order_by=[\"attributes.end_time DESC\"],\n",
    "        max_results=1\n",
    "    )\n",
    "    if not runs:\n",
    "        continue\n",
    "    run = runs[0]\n",
    "\n",
    "    data = run.data.metrics\n",
    "\n",
    "    size_bytes = get_artifact_size_bytes(run.info.run_id, path=\"model\")\n",
    "    size_mb    = size_bytes / (1024 * 1024)\n",
    "\n",
    "    rows.append({\n",
    "      \"experiment_name\": exp.name,\n",
    "      \"f1_score\": data.get(\"test_f1\", data.get(\"f1_score\", None)),\n",
    "      \"accuracy\": data.get(\"test_accuracy\", data.get(\"accuracy\", None)),\n",
    "      \"roc_auc\": data.get(\"test_roc_auc\", data.get(\"roc_auc\", None)),\n",
    "      \"inf_time_ms\": data.get(\"test_inference_time_ms_per_sample\", data.get(\"inference_time_ms_per_sample\", None)),\n",
    "      \"model_size_mb\": size_mb\n",
    "    })\n",
    "    # je dois recourir à ce qui précède car j'ai donné un nom différent aux métriques sur DistilBERT mais idéalement il aurait fallu donner le même nom\n",
    "\n",
    "# J'exclus deux expériences qui ne sont plus pertinentes ici\n",
    "rows = [row for row in rows if (row['experiment_name'] != 'DISTILBERT-testregistering' and row['experiment_name'] != 'BERT')]\n",
    "\n",
    "df = pd.DataFrame(rows)\n",
    "\n",
    "# Je renomme les experiments pour les graphiques\n",
    "rename_map = {\n",
    "    \"TFIDF_LogisticRegression_with_Metrics\": \"TFIDF LR\",\n",
    "    \"TFIDF_LogisticRegression_with_Metrics_Spacy_Tokens\": \"TFIDF LR Tokenizé\",\n",
    "    \"Embedding_Glove.twitter.27B.200d\": \"Glove\",\n",
    "    \"Embedding_GoogleNews-vectors-negative300\": \"GoogleNews\",\n",
    "    \"DISTILBERT\": \"DistilBERT\",\n",
    "}\n",
    "\n",
    "df['experiment_name'] = df['experiment_name'].replace(rename_map)\n",
    "\n",
    "# Je réordonne les experiments pour les graphiques\n",
    "order = [\n",
    "    \"TFIDF LR\",\n",
    "    \"TFIDF LR Tokenizé\",\n",
    "    \"RN_Brut\",\n",
    "    \"RN_Preproc\",\n",
    "    \"RN_Preproc_Lemm\",\n",
    "    \"Glove\",\n",
    "    \"GoogleNews\",\n",
    "    \"BLSTM\",\n",
    "    \"DistilBERT\"\n",
    "]\n",
    "\n",
    "df['sort_order'] = df['experiment_name'].apply(lambda x: order.index(x) if x in order else 999)\n",
    "df = df.sort_values('sort_order').drop('sort_order', axis=1)\n",
    "\n",
    "print(df)"
   ]
  },
  {
   "cell_type": "code",
   "execution_count": null,
   "metadata": {
    "colab": {
     "base_uri": "https://localhost:8080/",
     "height": 801
    },
    "executionInfo": {
     "elapsed": 1008,
     "status": "ok",
     "timestamp": 1747868845143,
     "user": {
      "displayName": "Fabien Cappelli",
      "userId": "13665664238437409195"
     },
     "user_tz": -60
    },
    "id": "HdOnOsp3BVKo",
    "outputId": "47ed050b-af0a-4848-a999-3d696308c317"
   },
   "outputs": [],
   "source": [
    "palette = sns.color_palette(\"Set2\", 4)\n",
    "sns.set(style='white', palette=palette)\n",
    "\n",
    "fig, ax1 = plt.subplots(figsize=(12, 8))\n",
    "\n",
    "ax2 = ax1.twinx()\n",
    "ln_inf, = ax2.plot(\n",
    "    df['experiment_name'], df['inf_time_ms'],\n",
    "    label='Temps d’inférence (ms)', marker='X', color='#E377C2', linewidth=2\n",
    ")\n",
    "ax2.set_ylabel('Temps d’inférence (ms)', color='#E377C2')\n",
    "ax2.tick_params(axis='y', labelcolor='#E377C2')\n",
    "\n",
    "ln_f1, = ax1.plot(df['experiment_name'], df['f1_score'], label='F1 Score', marker='o', linewidth=2, color=palette[0])\n",
    "ln_acc, = ax1.plot(df['experiment_name'], df['accuracy'], label='Accuracy', marker='s', linewidth=2, color=palette[1])\n",
    "ln_roc, = ax1.plot(df['experiment_name'], df['roc_auc'], label='ROC AUC', marker='^', linewidth=2, color=palette[2])\n",
    "\n",
    "ax1.set_xlabel('Modèle')\n",
    "ax1.set_ylabel('Scores')\n",
    "ax1.tick_params(axis='y')\n",
    "\n",
    "# Fusion des légendes\n",
    "lines = [ln_inf, ln_f1, ln_acc, ln_roc]\n",
    "labels = [l.get_label() for l in lines]\n",
    "ax1.legend(lines, labels, loc='upper left', frameon=True, fancybox=True, shadow=True)\n",
    "\n",
    "plt.setp(ax1.get_xticklabels(), rotation=45, ha=\"right\", rotation_mode=\"anchor\")\n",
    "plt.title('Comparaison des performances des modèles', fontsize=14)\n",
    "plt.tight_layout()\n",
    "plt.savefig(os.path.join(imgPrezPath, \"Perfs.svg\"),format=\"svg\",bbox_inches=\"tight\",pad_inches=0.1,)\n"
   ]
  },
  {
   "cell_type": "code",
   "execution_count": null,
   "metadata": {
    "colab": {
     "base_uri": "https://localhost:8080/",
     "height": 501
    },
    "executionInfo": {
     "elapsed": 271,
     "status": "ok",
     "timestamp": 1747868829509,
     "user": {
      "displayName": "Fabien Cappelli",
      "userId": "13665664238437409195"
     },
     "user_tz": -60
    },
    "id": "qgvsr_HlueFm",
    "outputId": "19c98b74-cf59-462b-fbfd-986f4931c52b"
   },
   "outputs": [],
   "source": [
    "fig, ax = plt.subplots(figsize=(10, 5))\n",
    "\n",
    "sns.lineplot(\n",
    "    x='experiment_name', y='model_size_mb', data=df,\n",
    "    ax=ax, marker='D', linewidth=2, color=\"#1177BB\"\n",
    ")\n",
    "\n",
    "ax.set_xlabel(\"Modèle\")\n",
    "ax.set_ylabel(\"Taille du modèle (Mo)\")\n",
    "ax.set_title(\"Taille des modèles en mémoire\", fontsize=14)\n",
    "ax.tick_params(axis='x')\n",
    "plt.setp(ax.get_xticklabels(), rotation=45, ha=\"right\", rotation_mode=\"anchor\")\n",
    "\n",
    "plt.tight_layout()\n",
    "plt.savefig(os.path.join(imgPrezPath, \"Tailles.svg\"),format=\"svg\",bbox_inches=\"tight\",pad_inches=0.1,)\n"
   ]
  },
  {
   "cell_type": "code",
   "execution_count": null,
   "metadata": {
    "colab": {
     "base_uri": "https://localhost:8080/",
     "height": 781
    },
    "executionInfo": {
     "elapsed": 720,
     "status": "ok",
     "timestamp": 1747868813776,
     "user": {
      "displayName": "Fabien Cappelli",
      "userId": "13665664238437409195"
     },
     "user_tz": -60
    },
    "id": "SqloHWJnEJNv",
    "outputId": "10a9e573-31eb-4ce3-8e12-31ca0279e15d"
   },
   "outputs": [],
   "source": [
    "fig, ax = plt.subplots(figsize=(16, len(df)*0.7 + 1.5))\n",
    "ax.axis('off')\n",
    "\n",
    "ncol = len(df.columns)\n",
    "col_width = 1.0 / ncol\n",
    "\n",
    "table = ax.table(\n",
    "    cellText=df.round(3).values,\n",
    "    colLabels=df.columns,\n",
    "    cellLoc='center',\n",
    "    loc='center'\n",
    ")\n",
    "\n",
    "table.auto_set_font_size(False)\n",
    "table.set_fontsize(14)\n",
    "\n",
    "for (row, col), cell in table.get_celld().items():\n",
    "    cell.set_height(0.08)\n",
    "    cell.set_width(col_width)\n",
    "\n",
    "    if row == 0:\n",
    "        cell.set_text_props(weight='bold', color='white')\n",
    "        cell.set_facecolor('#1177BB')\n",
    "    elif row % 2 == 0:\n",
    "        cell.set_facecolor(\"#f0f7fa\")\n",
    "    else:\n",
    "        cell.set_facecolor(\"#e5ecf6\")\n",
    "\n",
    "    cell.set_edgecolor(\"#BBBBBB\")\n",
    "    cell.set_linewidth(1.0)\n",
    "\n",
    "\n",
    "\n",
    "plt.tight_layout()\n",
    "plt.savefig(os.path.join(imgPrezPath, \"Tableaures.svg\"),format=\"svg\",bbox_inches=\"tight\",pad_inches=0.1,)\n"
   ]
  }
 ],
 "metadata": {
  "colab": {
   "authorship_tag": "ABX9TyPkeR8EDdqdDi6x8e4kH4g2",
   "mount_file_id": "1v8hTnrDaDALfNLpQ2N6hY26JEjn_RNLG",
   "provenance": []
  },
  "kernelspec": {
   "display_name": "Python 3 (ipykernel)",
   "language": "python",
   "name": "python3"
  },
  "language_info": {
   "codemirror_mode": {
    "name": "ipython",
    "version": 3
   },
   "file_extension": ".py",
   "mimetype": "text/x-python",
   "name": "python",
   "nbconvert_exporter": "python",
   "pygments_lexer": "ipython3",
   "version": "3.12.5"
  }
 },
 "nbformat": 4,
 "nbformat_minor": 4
}
