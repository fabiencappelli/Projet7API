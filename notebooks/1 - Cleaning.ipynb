{
 "cells": [
  {
   "cell_type": "markdown",
   "metadata": {
    "id": "hkWMV_L3gDqM"
   },
   "source": [
    "# Imports et initialisations"
   ]
  },
  {
   "cell_type": "code",
   "execution_count": null,
   "metadata": {
    "executionInfo": {
     "elapsed": 4726,
     "status": "ok",
     "timestamp": 1747340658589,
     "user": {
      "displayName": "Fabien Cappelli",
      "userId": "13665664238437409195"
     },
     "user_tz": -60
    },
    "id": "ZizpggGCBvn1"
   },
   "outputs": [],
   "source": [
    "import os\n",
    "\n",
    "import pandas as pd\n",
    "import numpy as np\n",
    "import matplotlib.pyplot as plt\n",
    "import seaborn as sns\n",
    "\n",
    "from matplotlib import rcParams\n",
    "import matplotlib.font_manager as fm"
   ]
  },
  {
   "cell_type": "code",
   "execution_count": null,
   "metadata": {
    "colab": {
     "base_uri": "https://localhost:8080/"
    },
    "executionInfo": {
     "elapsed": 20567,
     "status": "ok",
     "timestamp": 1747340679162,
     "user": {
      "displayName": "Fabien Cappelli",
      "userId": "13665664238437409195"
     },
     "user_tz": -60
    },
    "id": "rB6ygIYZngbJ",
    "outputId": "d994f959-7037-4fc1-b98a-40a0d0c21c30"
   },
   "outputs": [],
   "source": [
    "pip install dataframe_image"
   ]
  },
  {
   "cell_type": "code",
   "execution_count": null,
   "metadata": {
    "executionInfo": {
     "elapsed": 1755,
     "status": "ok",
     "timestamp": 1747340680928,
     "user": {
      "displayName": "Fabien Cappelli",
      "userId": "13665664238437409195"
     },
     "user_tz": -60
    },
    "id": "UcO4PrAuniJk"
   },
   "outputs": [],
   "source": [
    "import dataframe_image as dfi"
   ]
  },
  {
   "cell_type": "code",
   "execution_count": null,
   "metadata": {
    "executionInfo": {
     "elapsed": 1500,
     "status": "ok",
     "timestamp": 1747340682439,
     "user": {
      "displayName": "Fabien Cappelli",
      "userId": "13665664238437409195"
     },
     "user_tz": -60
    },
    "id": "Ajizfe9PfwsG"
   },
   "outputs": [],
   "source": [
    "font_path = os.path.expanduser(\"/content/drive/MyDrive/Colab Notebooks/fonts/Exo2-VariableFont_wght.ttf\")  # Remplacez par le chemin exact\n",
    "fm.fontManager.addfont(font_path)\n",
    "\n",
    "# Définir la police globale avec le nom de la police\n",
    "rcParams[\"font.family\"] = \"Exo 2\"\n",
    "# deux couleurs pertinentes pour aller avec la présentation\n",
    "bleuclair = (0.15, 0.55, 0.82)\n",
    "couleur_complementaire = (1 - bleuclair[0], 1 - bleuclair[1], 1 - bleuclair[2])\n",
    "bleufonce = \"#073642\""
   ]
  },
  {
   "cell_type": "code",
   "execution_count": null,
   "metadata": {
    "executionInfo": {
     "elapsed": 16,
     "status": "ok",
     "timestamp": 1747340682474,
     "user": {
      "displayName": "Fabien Cappelli",
      "userId": "13665664238437409195"
     },
     "user_tz": -60
    },
    "id": "PFm6poLiE_jB"
   },
   "outputs": [],
   "source": [
    "imgPrezPath = '/content/drive/MyDrive/Colab Notebooks/Projet_07/presentationimg'"
   ]
  },
  {
   "cell_type": "markdown",
   "metadata": {
    "id": "sbVGGuDHgLJR"
   },
   "source": [
    "# Exploration et nettoyage"
   ]
  },
  {
   "cell_type": "code",
   "execution_count": null,
   "metadata": {
    "executionInfo": {
     "elapsed": 27,
     "status": "ok",
     "timestamp": 1747340682506,
     "user": {
      "displayName": "Fabien Cappelli",
      "userId": "13665664238437409195"
     },
     "user_tz": -60
    },
    "id": "J72r8mRjlHDV"
   },
   "outputs": [],
   "source": [
    "csvPath = '/content/drive/MyDrive/Colab Notebooks/Projet_07/training.1600000.processed.noemoticon.csv'"
   ]
  },
  {
   "cell_type": "code",
   "execution_count": null,
   "metadata": {
    "executionInfo": {
     "elapsed": 23219,
     "status": "ok",
     "timestamp": 1747340705727,
     "user": {
      "displayName": "Fabien Cappelli",
      "userId": "13665664238437409195"
     },
     "user_tz": -60
    },
    "id": "i2SY6nWqlVxY"
   },
   "outputs": [],
   "source": [
    "df = pd.read_csv(csvPath, encoding='latin-1', header=None, names=['target', 'ids', 'date', 'flag', 'user', 'text'])"
   ]
  },
  {
   "cell_type": "code",
   "execution_count": null,
   "metadata": {
    "colab": {
     "base_uri": "https://localhost:8080/",
     "height": 206
    },
    "executionInfo": {
     "elapsed": 57,
     "status": "ok",
     "timestamp": 1747340705750,
     "user": {
      "displayName": "Fabien Cappelli",
      "userId": "13665664238437409195"
     },
     "user_tz": -60
    },
    "id": "p5j_Yhp3lku7",
    "outputId": "1bf91092-ecd4-489e-9aab-fa6fe35eb23b"
   },
   "outputs": [],
   "source": [
    "df.head()"
   ]
  },
  {
   "cell_type": "code",
   "execution_count": null,
   "metadata": {
    "executionInfo": {
     "elapsed": 573,
     "status": "ok",
     "timestamp": 1747340758967,
     "user": {
      "displayName": "Fabien Cappelli",
      "userId": "13665664238437409195"
     },
     "user_tz": -60
    },
    "id": "1GBDrlGOnqBf"
   },
   "outputs": [],
   "source": [
    "dfi.export(df.head(), os.path.join(imgPrezPath,'head_dataframe.png'), table_conversion='matplotlib')"
   ]
  },
  {
   "cell_type": "code",
   "execution_count": null,
   "metadata": {
    "colab": {
     "base_uri": "https://localhost:8080/"
    },
    "executionInfo": {
     "elapsed": 1337,
     "status": "ok",
     "timestamp": 1747341905426,
     "user": {
      "displayName": "Fabien Cappelli",
      "userId": "13665664238437409195"
     },
     "user_tz": -60
    },
    "id": "SkjjTbOvlr88",
    "outputId": "8b9c5cd8-312b-4fca-a18b-30d2586c7bf9"
   },
   "outputs": [],
   "source": [
    "df.info()"
   ]
  },
  {
   "cell_type": "code",
   "execution_count": null,
   "metadata": {
    "colab": {
     "base_uri": "https://localhost:8080/",
     "height": 300
    },
    "executionInfo": {
     "elapsed": 100,
     "status": "ok",
     "timestamp": 1747341928142,
     "user": {
      "displayName": "Fabien Cappelli",
      "userId": "13665664238437409195"
     },
     "user_tz": -60
    },
    "id": "5bvWZa5Ulxfc",
    "outputId": "aa503515-52d4-477d-c682-855d66773116"
   },
   "outputs": [],
   "source": [
    "df.describe()"
   ]
  },
  {
   "cell_type": "markdown",
   "metadata": {
    "id": "b7x5pIgznSe6"
   },
   "source": [
    "ids est clairement un \"faux\" integer, devrait être une chaîne.\n",
    "de même les dates devraient être au format date dans l'idéal mais je ne sais pas si ici ça sera pertinent, dans les deux cas"
   ]
  },
  {
   "cell_type": "code",
   "execution_count": null,
   "metadata": {
    "colab": {
     "base_uri": "https://localhost:8080/",
     "height": 230
    },
    "executionInfo": {
     "elapsed": 7704,
     "status": "ok",
     "timestamp": 1747341938274,
     "user": {
      "displayName": "Fabien Cappelli",
      "userId": "13665664238437409195"
     },
     "user_tz": -60
    },
    "id": "BsUvoeraoF1v",
    "outputId": "ed427cbf-d81d-4ab7-eedf-d3662c38d0ac"
   },
   "outputs": [],
   "source": [
    "df.describe(include='object')"
   ]
  },
  {
   "cell_type": "code",
   "execution_count": null,
   "metadata": {
    "executionInfo": {
     "elapsed": 6677,
     "status": "ok",
     "timestamp": 1747341976192,
     "user": {
      "displayName": "Fabien Cappelli",
      "userId": "13665664238437409195"
     },
     "user_tz": -60
    },
    "id": "EDTxhWvqsfpa"
   },
   "outputs": [],
   "source": [
    "dfi.export(df.describe(include='object'), os.path.join(imgPrezPath,'describe_dataframe.png'), table_conversion='matplotlib')"
   ]
  },
  {
   "cell_type": "markdown",
   "metadata": {
    "id": "D4Uwsmneo0gW"
   },
   "source": [
    "`flag` ne sert à rien et sinon on a des duplicates dans les textes. Il faut dans un premier lieu voir si ces doublons ont les mêmes notes (`target`)"
   ]
  },
  {
   "cell_type": "code",
   "execution_count": null,
   "metadata": {
    "colab": {
     "base_uri": "https://localhost:8080/"
    },
    "executionInfo": {
     "elapsed": 240752,
     "status": "ok",
     "timestamp": 1746353623134,
     "user": {
      "displayName": "Fabien Cappelli",
      "userId": "13665664238437409195"
     },
     "user_tz": -60
    },
    "id": "s1opx7T4oxUb",
    "outputId": "5c20cf35-8cd1-46af-d496-16375d4b55af"
   },
   "outputs": [],
   "source": [
    "filtered_df = df.groupby('text').filter(lambda x: x['target'].nunique() > 1)\n",
    "print(filtered_df[['target', 'text']])"
   ]
  },
  {
   "cell_type": "code",
   "execution_count": null,
   "metadata": {
    "colab": {
     "base_uri": "https://localhost:8080/"
    },
    "executionInfo": {
     "elapsed": 38,
     "status": "ok",
     "timestamp": 1746353623139,
     "user": {
      "displayName": "Fabien Cappelli",
      "userId": "13665664238437409195"
     },
     "user_tz": -60
    },
    "id": "JG1TsyB1T3X3",
    "outputId": "31bcfe7a-8edb-40fa-e48e-5fce2a15ea5a"
   },
   "outputs": [],
   "source": [
    "tweet_counts = filtered_df.groupby('text').size()\n",
    "print(tweet_counts)"
   ]
  },
  {
   "cell_type": "code",
   "execution_count": null,
   "metadata": {
    "colab": {
     "base_uri": "https://localhost:8080/"
    },
    "executionInfo": {
     "elapsed": 28,
     "status": "ok",
     "timestamp": 1746353623143,
     "user": {
      "displayName": "Fabien Cappelli",
      "userId": "13665664238437409195"
     },
     "user_tz": -60
    },
    "id": "ErB0CMy8UgpR",
    "outputId": "af8ba77d-d6c9-4005-d7ce-f629ee41e9fa"
   },
   "outputs": [],
   "source": [
    "distribution = tweet_counts.value_counts().sort_index()\n",
    "print(distribution)"
   ]
  },
  {
   "cell_type": "code",
   "execution_count": null,
   "metadata": {
    "colab": {
     "base_uri": "https://localhost:8080/"
    },
    "executionInfo": {
     "elapsed": 17,
     "status": "ok",
     "timestamp": 1746353623145,
     "user": {
      "displayName": "Fabien Cappelli",
      "userId": "13665664238437409195"
     },
     "user_tz": -60
    },
    "id": "FIgQlpBNVal-",
    "outputId": "13070ced-5163-4c77-9176-28b4e101dae9"
   },
   "outputs": [],
   "source": [
    "tweet_112 = tweet_counts[tweet_counts == 112]\n",
    "print(tweet_112)"
   ]
  },
  {
   "cell_type": "code",
   "execution_count": null,
   "metadata": {
    "colab": {
     "base_uri": "https://localhost:8080/"
    },
    "executionInfo": {
     "elapsed": 14,
     "status": "ok",
     "timestamp": 1746353623161,
     "user": {
      "displayName": "Fabien Cappelli",
      "userId": "13665664238437409195"
     },
     "user_tz": -60
    },
    "id": "iBvu4q_ZV60z",
    "outputId": "6ddd6338-bfc9-456c-db7e-674909c6f514"
   },
   "outputs": [],
   "source": [
    "tweet_112 = filtered_df[filtered_df['text'].isin(tweet_112.index)]\n",
    "print(tweet_112)"
   ]
  },
  {
   "cell_type": "code",
   "execution_count": null,
   "metadata": {
    "colab": {
     "base_uri": "https://localhost:8080/",
     "height": 607
    },
    "executionInfo": {
     "elapsed": 362,
     "status": "ok",
     "timestamp": 1746353736853,
     "user": {
      "displayName": "Fabien Cappelli",
      "userId": "13665664238437409195"
     },
     "user_tz": -60
    },
    "id": "dxwI2bVbWNpE",
    "outputId": "ef25f4c6-aec2-4fe7-afff-8ad36483b20e"
   },
   "outputs": [],
   "source": [
    "distrib_112 = tweet_112['target'].value_counts().sort_index()\n",
    "plt.figure(figsize=(8, 6))\n",
    "plt.bar(distrib_112.index, distrib_112.values)\n",
    "plt.xlabel('Valeur de \"target\"')\n",
    "plt.ylabel('Nombre d\\'occurrences')\n",
    "plt.title('Distribution de \"target\" pour le tweet au score contradictoire avec 112 occurrences\\n tweet: \"' + tweet_112['text'].iloc[0] +'\"')\n",
    "plt.tight_layout()\n",
    "plt.savefig(os.path.join(imgPrezPath, \"contradict112.svg\"),format=\"svg\",bbox_inches=\"tight\",pad_inches=0.1,)"
   ]
  },
  {
   "cell_type": "code",
   "execution_count": null,
   "metadata": {
    "colab": {
     "base_uri": "https://localhost:8080/",
     "height": 659
    },
    "executionInfo": {
     "elapsed": 299,
     "status": "ok",
     "timestamp": 1746353737149,
     "user": {
      "displayName": "Fabien Cappelli",
      "userId": "13665664238437409195"
     },
     "user_tz": -60
    },
    "id": "DnFRTeI7YSsJ",
    "outputId": "68c4b239-7d31-4651-8805-431735bb350a"
   },
   "outputs": [],
   "source": [
    "tweet_28 = tweet_counts[tweet_counts == 28]\n",
    "print(tweet_28)\n",
    "tweet_28 = filtered_df[filtered_df['text'].isin(tweet_28.index)]\n",
    "distrib_28 = tweet_28['target'].value_counts().sort_index()\n",
    "plt.figure(figsize=(8, 6))\n",
    "plt.bar(distrib_28.index, distrib_28.values)\n",
    "plt.xlabel('Valeur de \"target\"')\n",
    "plt.ylabel('Nombre d\\'occurrences')\n",
    "plt.title('Distribution de \"target\" pour le tweet au score contradictoire avec 28 occurrences\\n tweet: \"' + tweet_28['text'].iloc[0] +'\"')\n",
    "plt.tight_layout()\n",
    "plt.savefig(os.path.join(imgPrezPath, \"contradict28.svg\"),format=\"svg\",bbox_inches=\"tight\",pad_inches=0.1,)"
   ]
  },
  {
   "cell_type": "code",
   "execution_count": null,
   "metadata": {
    "colab": {
     "base_uri": "https://localhost:8080/",
     "height": 659
    },
    "executionInfo": {
     "elapsed": 305,
     "status": "ok",
     "timestamp": 1746353737457,
     "user": {
      "displayName": "Fabien Cappelli",
      "userId": "13665664238437409195"
     },
     "user_tz": -60
    },
    "id": "96QjXkvJces_",
    "outputId": "19267ff0-3009-4cf8-f1c8-65fac73d1197"
   },
   "outputs": [],
   "source": [
    "tweet_54 = tweet_counts[tweet_counts == 54]\n",
    "print(tweet_54)\n",
    "tweet_54 = filtered_df[filtered_df['text'].isin(tweet_54.index)]\n",
    "distrib_54 = tweet_54['target'].value_counts().sort_index()\n",
    "plt.figure(figsize=(8, 6))\n",
    "plt.bar(distrib_54.index, distrib_54.values)\n",
    "plt.xlabel('Valeur de \"target\"')\n",
    "plt.ylabel('Nombre d\\'occurrences')\n",
    "plt.title('Distribution de \"target\" pour le tweet au score contradictoire avec 54 occurrences\\n tweet: \"' + tweet_54['text'].iloc[0] +'\"')\n",
    "plt.tight_layout()\n",
    "plt.savefig(os.path.join(imgPrezPath, \"contradict54.svg\"),format=\"svg\",bbox_inches=\"tight\",pad_inches=0.1,)"
   ]
  },
  {
   "cell_type": "code",
   "execution_count": null,
   "metadata": {
    "colab": {
     "base_uri": "https://localhost:8080/",
     "height": 659
    },
    "executionInfo": {
     "elapsed": 377,
     "status": "ok",
     "timestamp": 1746353737851,
     "user": {
      "displayName": "Fabien Cappelli",
      "userId": "13665664238437409195"
     },
     "user_tz": -60
    },
    "id": "xqldpzXMeIH2",
    "outputId": "7bbe245b-28dc-4e89-e28c-26ccefbe1f5b"
   },
   "outputs": [],
   "source": [
    "tweet_85 = tweet_counts[tweet_counts == 85]\n",
    "print(tweet_85)\n",
    "tweet_85 = filtered_df[filtered_df['text'].isin(tweet_85.index)]\n",
    "distrib_85 = tweet_85['target'].value_counts().sort_index()\n",
    "plt.figure(figsize=(8, 6))\n",
    "plt.bar(distrib_85.index, distrib_85.values)\n",
    "plt.xlabel('Valeur de \"target\"')\n",
    "plt.ylabel('Nombre d\\'occurrences')\n",
    "plt.title('Distribution de \"target\" pour le tweet au score contradictoire avec 85 occurrences\\n tweet: \"' + tweet_85['text'].iloc[0] +'\"')\n",
    "plt.tight_layout()\n",
    "plt.savefig(os.path.join(imgPrezPath, \"contradict85.svg\"),format=\"svg\",bbox_inches=\"tight\",pad_inches=0.1,)"
   ]
  },
  {
   "cell_type": "markdown",
   "metadata": {
    "id": "y-KWCSg8k_Fi"
   },
   "source": [
    "Supprimer ceux qui n'ont que deux occurrences et donc pour lesquels il est impossible de décider automatiquement. Les autres, donner le score majoritaire"
   ]
  },
  {
   "cell_type": "markdown",
   "metadata": {
    "id": "AE1DX5Dqcfiy"
   },
   "source": [
    "voir aussi la répartition des notes. Si on est sur de l'alternance pure entre 0 et 4 et pas de 2 alors on est sur du booléen."
   ]
  },
  {
   "cell_type": "code",
   "execution_count": null,
   "metadata": {
    "colab": {
     "base_uri": "https://localhost:8080/",
     "height": 807
    },
    "executionInfo": {
     "elapsed": 207,
     "status": "ok",
     "timestamp": 1746353738061,
     "user": {
      "displayName": "Fabien Cappelli",
      "userId": "13665664238437409195"
     },
     "user_tz": -60
    },
    "id": "11unkcu0hMTN",
    "outputId": "c67ba335-e513-4902-ed4e-f83c70ca0c66"
   },
   "outputs": [],
   "source": [
    "target_distribution = df['target'].value_counts()\n",
    "\n",
    "# Pie chart\n",
    "plt.figure(figsize=(8, 8))\n",
    "plt.pie(target_distribution.values, labels=target_distribution.index, autopct='%1.0f%%', startangle=90, colors=[bleuclair, couleur_complementaire])\n",
    "plt.title('Distribution des valeurs de \"target\" (jeu original)')\n",
    "plt.axis('equal')\n",
    "plt.tight_layout()\n",
    "plt.savefig(os.path.join(imgPrezPath, \"distribpre.svg\"),format=\"svg\",bbox_inches=\"tight\",pad_inches=0.1,)\n"
   ]
  },
  {
   "cell_type": "code",
   "execution_count": null,
   "metadata": {
    "id": "mQaKcCw1-3hJ"
   },
   "outputs": [],
   "source": [
    "df_reduit = df[['text', 'target']].copy()"
   ]
  },
  {
   "cell_type": "code",
   "execution_count": null,
   "metadata": {
    "id": "jEMEYeTPBO1x"
   },
   "outputs": [],
   "source": [
    "# Function pour traiter chaque groupe de tweets identiques\n",
    "def process_group(group):\n",
    "    if len(group) == 2:\n",
    "        if group['target'].nunique() == 2:\n",
    "            return pd.DataFrame()\n",
    "        else:\n",
    "            return group.iloc[[0]]\n",
    "    else:\n",
    "        major_note = group['target'].mode()[0]\n",
    "        row = group.iloc[[0]].copy()\n",
    "        row['target'] = major_note\n",
    "        return row"
   ]
  },
  {
   "cell_type": "code",
   "execution_count": null,
   "metadata": {
    "colab": {
     "base_uri": "https://localhost:8080/"
    },
    "executionInfo": {
     "elapsed": 1116568,
     "status": "ok",
     "timestamp": 1746354854681,
     "user": {
      "displayName": "Fabien Cappelli",
      "userId": "13665664238437409195"
     },
     "user_tz": -60
    },
    "id": "kOaYR8XMBQpw",
    "outputId": "46835521-6a42-414e-eeac-4b31224c31f9"
   },
   "outputs": [],
   "source": [
    "df_cleaned = df_reduit.groupby('text', group_keys=False).apply(process_group)\n",
    "\n",
    "print(df_cleaned.head())\n",
    "print(\"Nombre de tweets avant traitement :\", len(df))\n",
    "print(\"Nombre de tweets après traitement :\", len(df_cleaned))"
   ]
  },
  {
   "cell_type": "code",
   "execution_count": null,
   "metadata": {
    "id": "vFWXILzbtg9n"
   },
   "outputs": [],
   "source": [
    "df_cleaned['target'] = df_cleaned['target'].replace(4, 1)"
   ]
  },
  {
   "cell_type": "code",
   "execution_count": null,
   "metadata": {
    "colab": {
     "base_uri": "https://localhost:8080/",
     "height": 807
    },
    "executionInfo": {
     "elapsed": 314,
     "status": "ok",
     "timestamp": 1746354855029,
     "user": {
      "displayName": "Fabien Cappelli",
      "userId": "13665664238437409195"
     },
     "user_tz": -60
    },
    "id": "cKphXL0LFNH7",
    "outputId": "7ed62d17-843e-44fc-dc7e-b445d23e8af1"
   },
   "outputs": [],
   "source": [
    "target_distribution = df_cleaned['target'].value_counts()\n",
    "\n",
    "# Pie chart\n",
    "plt.figure(figsize=(8, 8))\n",
    "plt.pie(target_distribution.values, labels=target_distribution.index, autopct='%1.0f%%', startangle=90, colors=[bleuclair, couleur_complementaire])\n",
    "plt.title('Distribution des valeurs de \"target\" (après nettoyage)')\n",
    "plt.axis('equal')\n",
    "plt.tight_layout()\n",
    "plt.savefig(os.path.join(imgPrezPath, \"distribpost.svg\"),format=\"svg\",bbox_inches=\"tight\",pad_inches=0.1,)"
   ]
  },
  {
   "cell_type": "markdown",
   "metadata": {
    "id": "ahimpz1lxPDL"
   },
   "source": [
    "Notre correction n'a pas touché l'équilibre du jeu de données"
   ]
  },
  {
   "cell_type": "code",
   "execution_count": null,
   "metadata": {
    "id": "FXXSyYUR-AtV"
   },
   "outputs": [],
   "source": [
    "df_cleaned.to_csv('/content/drive/MyDrive/Colab Notebooks/Projet_07/df_cleaned.csv', index=False)"
   ]
  }
 ],
 "metadata": {
  "colab": {
   "authorship_tag": "ABX9TyPnwEk+5aU9d05W5SWk1+RJ",
   "mount_file_id": "1Dq1GxX7WfY4fGJhAin53nOFdpJ1SH7dI",
   "provenance": [
    {
     "file_id": "1PISxPi1uSBjVB32-4J98SmCUvOFntziH",
     "timestamp": 1746352992001
    }
   ]
  },
  "kernelspec": {
   "display_name": "Python 3 (ipykernel)",
   "language": "python",
   "name": "python3"
  },
  "language_info": {
   "codemirror_mode": {
    "name": "ipython",
    "version": 3
   },
   "file_extension": ".py",
   "mimetype": "text/x-python",
   "name": "python",
   "nbconvert_exporter": "python",
   "pygments_lexer": "ipython3",
   "version": "3.12.5"
  }
 },
 "nbformat": 4,
 "nbformat_minor": 4
}
