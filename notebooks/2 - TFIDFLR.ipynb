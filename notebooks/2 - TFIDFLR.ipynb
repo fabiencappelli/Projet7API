{
 "cells": [
  {
   "cell_type": "markdown",
   "metadata": {
    "id": "hkWMV_L3gDqM"
   },
   "source": [
    "# Imports et initialisations"
   ]
  },
  {
   "cell_type": "code",
   "execution_count": null,
   "metadata": {
    "colab": {
     "base_uri": "https://localhost:8080/",
     "height": 1000
    },
    "executionInfo": {
     "elapsed": 42543,
     "status": "ok",
     "timestamp": 1747753806804,
     "user": {
      "displayName": "Fabien Cappelli",
      "userId": "13665664238437409195"
     },
     "user_tz": -60
    },
    "id": "sx9tQhDZA8I7",
    "outputId": "191c4247-437e-4154-c68b-9abbc806a873"
   },
   "outputs": [],
   "source": [
    "!pip install mlflow dagshub"
   ]
  },
  {
   "cell_type": "code",
   "execution_count": null,
   "metadata": {
    "executionInfo": {
     "elapsed": 10951,
     "status": "ok",
     "timestamp": 1747753920903,
     "user": {
      "displayName": "Fabien Cappelli",
      "userId": "13665664238437409195"
     },
     "user_tz": -60
    },
    "id": "ZizpggGCBvn1"
   },
   "outputs": [],
   "source": [
    "import mlflow\n",
    "import dagshub\n",
    "\n",
    "import time\n",
    "import os\n",
    "from google.colab import userdata\n",
    "\n",
    "import pandas as pd\n",
    "import numpy as np\n",
    "import matplotlib.pyplot as plt\n",
    "import seaborn as sns\n",
    "\n",
    "from matplotlib import rcParams\n",
    "import matplotlib.font_manager as fm\n",
    "\n",
    "\n",
    "from sklearn.model_selection import train_test_split, GridSearchCV\n",
    "from sklearn.feature_extraction.text import TfidfVectorizer\n",
    "from sklearn.linear_model import LogisticRegression\n",
    "from sklearn.pipeline import Pipeline\n",
    "from sklearn.metrics import accuracy_score, f1_score, roc_auc_score\n",
    "\n",
    "import mlflow.sklearn\n",
    "from mlflow.models import infer_signature\n",
    "import mlflow.pyfunc\n",
    "\n",
    "import spacy"
   ]
  },
  {
   "cell_type": "code",
   "execution_count": null,
   "metadata": {
    "colab": {
     "base_uri": "https://localhost:8080/",
     "height": 85
    },
    "executionInfo": {
     "elapsed": 996,
     "status": "ok",
     "timestamp": 1747753921889,
     "user": {
      "displayName": "Fabien Cappelli",
      "userId": "13665664238437409195"
     },
     "user_tz": -60
    },
    "id": "SoGBEoQ8B4n4",
    "outputId": "191efb9c-e959-4008-d31e-7a9c115429ed"
   },
   "outputs": [],
   "source": [
    "# Récupère automatiquement le secret\n",
    "dagshub_token = userdata.get('DAGSHUB_TOKEN')\n",
    "\n",
    "# Initialisation Dagshub\n",
    "dagshub.auth.add_app_token(dagshub_token)\n",
    "\n",
    "# Connecter MLflow à Dagshub\n",
    "dagshub.init(repo_owner='fabiencappelli', repo_name='Projet_07', mlflow=True)\n",
    "\n",
    "# Configure MLflow pour pointer vers Dagshub\n",
    "mlflow.set_tracking_uri('https://dagshub.com/fabiencappelli/Projet_07.mlflow')"
   ]
  },
  {
   "cell_type": "code",
   "execution_count": null,
   "metadata": {
    "executionInfo": {
     "elapsed": 5,
     "status": "ok",
     "timestamp": 1747753921895,
     "user": {
      "displayName": "Fabien Cappelli",
      "userId": "13665664238437409195"
     },
     "user_tz": -60
    },
    "id": "Ajizfe9PfwsG"
   },
   "outputs": [],
   "source": [
    "font_path = os.path.expanduser(\"/content/drive/MyDrive/Colab Notebooks/fonts/Exo2-VariableFont_wght.ttf\")  # Remplacez par le chemin exact\n",
    "fm.fontManager.addfont(font_path)\n",
    "\n",
    "# Définir la police globale avec le nom de la police\n",
    "rcParams[\"font.family\"] = \"Exo 2\"\n",
    "# deux couleurs pertinentes pour aller avec la présentation\n",
    "bleuclair = (0.15, 0.55, 0.82)\n",
    "couleur_complementaire = (1 - bleuclair[0], 1 - bleuclair[1], 1 - bleuclair[2])\n",
    "bleufonce = \"#073642\""
   ]
  },
  {
   "cell_type": "code",
   "execution_count": null,
   "metadata": {
    "executionInfo": {
     "elapsed": 3,
     "status": "ok",
     "timestamp": 1747753921905,
     "user": {
      "displayName": "Fabien Cappelli",
      "userId": "13665664238437409195"
     },
     "user_tz": -60
    },
    "id": "PFm6poLiE_jB"
   },
   "outputs": [],
   "source": [
    "imgPrezPath = '/content/drive/MyDrive/Colab Notebooks/Projet_07/presentationimg'"
   ]
  },
  {
   "cell_type": "code",
   "execution_count": null,
   "metadata": {
    "executionInfo": {
     "elapsed": 27,
     "status": "ok",
     "timestamp": 1747753921935,
     "user": {
      "displayName": "Fabien Cappelli",
      "userId": "13665664238437409195"
     },
     "user_tz": -60
    },
    "id": "shNZHPyIy657"
   },
   "outputs": [],
   "source": [
    "csvPath = '/content/drive/MyDrive/Colab Notebooks/Projet_07/df_cleaned.csv'"
   ]
  },
  {
   "cell_type": "code",
   "execution_count": null,
   "metadata": {
    "executionInfo": {
     "elapsed": 3352,
     "status": "ok",
     "timestamp": 1747753925289,
     "user": {
      "displayName": "Fabien Cappelli",
      "userId": "13665664238437409195"
     },
     "user_tz": -60
    },
    "id": "ogiiPOV7y-OP"
   },
   "outputs": [],
   "source": [
    "df_cleaned = pd.read_csv(csvPath, encoding='latin-1')"
   ]
  },
  {
   "cell_type": "code",
   "execution_count": null,
   "metadata": {
    "executionInfo": {
     "elapsed": 174,
     "status": "ok",
     "timestamp": 1747753925470,
     "user": {
      "displayName": "Fabien Cappelli",
      "userId": "13665664238437409195"
     },
     "user_tz": -60
    },
    "id": "4zFOqPqKxroL"
   },
   "outputs": [],
   "source": [
    "# Division en jeu d'entraînement et de test\n",
    "X = df_cleaned['text']\n",
    "y = df_cleaned['target']\n",
    "X_train, X_test, y_train, y_test = train_test_split(X, y, test_size=0.2, random_state=34)"
   ]
  },
  {
   "cell_type": "markdown",
   "metadata": {
    "id": "lwwxK37FspYv"
   },
   "source": [
    "# TF-IDF"
   ]
  },
  {
   "cell_type": "markdown",
   "metadata": {
    "id": "_IL2-g0Eul9z"
   },
   "source": [
    "Attention, contrairement à ce que j'ai fait dans le passé puisqu'on était dans du non supervisé ici étant dans du supervisé je dois faire attention à ce que mon TF-IDF n'ait pas de fuites de données. Donc l'intégrer dans le pipeline, et du coup aussi rechercher les meilleurs hyperparams pour TFIDF aussi dans la grid search"
   ]
  },
  {
   "cell_type": "markdown",
   "metadata": {
    "id": "3tCOA6HYzCAt"
   },
   "source": [
    "## Choix du solver\n",
    "\n",
    "solver{‘lbfgs’, ‘liblinear’, ‘newton-cg’, ‘newton-cholesky’, ‘sag’, ‘saga’}, default=’lbfgs’\n",
    "\n",
    "    Algorithm to use in the optimization problem. Default is ‘lbfgs’. To choose a solver, you might want to consider the following aspects:\n",
    "\n",
    "        For small datasets, ‘liblinear’ is a good choice, whereas ‘sag’ and ‘saga’ are faster for large ones;\n",
    "\n",
    "        For multiclass problems, all solvers except ‘liblinear’ minimize the full multinomial loss;\n",
    "\n",
    "        ‘liblinear’ can only handle binary classification by default. To apply a one-versus-rest scheme for the multiclass setting one can wrap it with the OneVsRestClassifier.\n",
    "\n",
    "        ‘newton-cholesky’ is a good choice for n_samples >> n_features * n_classes, especially with one-hot encoded categorical features with rare categories. Be aware that the memory usage of this solver has a quadratic dependency on n_features * n_classes because it explicitly computes the full Hessian matrix.\n",
    "![image.png](data:image/png;base64,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)"
   ]
  },
  {
   "cell_type": "markdown",
   "metadata": {
    "id": "9jjR04JDzs7C"
   },
   "source": [
    "Mon ami ChatGPT\n",
    "\n",
    "Il n'existe pas de seuil fixe et universel pour qualifier un dataset de \"small\" dans scikit-learn, car cela dépend beaucoup des ressources matérielles disponibles (mémoire, processeur) et du type de modèle utilisé. Cependant, on peut donner quelques repères généraux :\n",
    "\n",
    "- **Petits datasets typiques :**  \n",
    "  scikit-learn est conçu pour des datasets qui tiennent en mémoire, ce qui correspond souvent à quelques dizaines de milliers jusqu'à quelques centaines de milliers d'exemples. Dans de nombreux cas, c'est même quelques milliers d'exemples qui suffisent pour entraîner un modèle de manière efficace avec scikit-learn.\n",
    "\n",
    "- **Cas extrêmes :**  \n",
    "  Certains algorithmes de scikit-learn peuvent gérer quelques millions d'exemples, à condition que les données tiennent en mémoire et que le prétraitement soit adapté.  \n",
    "  Pour des datasets bien plus volumineux (des dizaines de millions d'exemples ou plus), il devient souvent nécessaire de passer à des frameworks ou bibliothèques conçus pour le Big Data (comme Dask-ML, Spark MLlib, etc.).\n",
    "\n",
    "En résumé, dans l'univers de scikit-learn, un \"small dataset\" est généralement celui qui peut être entièrement chargé dans la mémoire vive de ton système et traité avec des algorithmes qui ne nécessitent pas d'approches distribuées. Les repères habituels tournent souvent autour de quelques dizaines de milliers à quelques centaines de milliers d'exemples, selon la complexité des features et des modèles.\n",
    "\n",
    "1,6 million d'exemples peut être considéré comme un dataset relativement volumineux pour scikit-learn, mais tout dépend :\n",
    "\n",
    "- **Capacité mémoire :**  \n",
    "  scikit-learn charge généralement l'ensemble du dataset en mémoire. Avec 1,6 million d'exemples, cela peut être assez lourd si le nombre de caractéristiques (features) est élevé. Toutefois, si tu utilises une représentation sparse (comme c'est souvent le cas avec TF-IDF), cela peut rester gérable, à condition d'avoir suffisamment de RAM.\n",
    "\n",
    "- **Type de modèle et complexité :**  \n",
    "  Pour des algorithmes comme la régression logistique ou des modèles linéaires, scikit-learn peut généralement traiter ce volume sur des machines modernes disposant de 16 Go de RAM ou plus. Si le modèle implique des algorithmes plus gourmands en ressources ou si tu utilises des pipelines complexes, tu pourrais rencontrer des lenteurs ou des limites mémoire.\n",
    "\n",
    "- **Alternatives pour des datasets plus volumineux :**  \n",
    "  Si 1,6 million d'exemples devient problématique, tu pourrais envisager :\n",
    "  - Des techniques d'apprentissage incrémental (par exemple, `SGDClassifier` pour la régression logistique).\n",
    "  - Des bibliothèques conçues pour le big data comme Dask-ML, qui permettent une gestion distribuée.\n",
    "\n",
    "En résumé, 1,6 million d'exemples est à la limite supérieure du \"small/moyen dataset\" dans scikit-learn. Avec une bonne gestion de la mémoire (par exemple, utilisation de matrices creuses pour le TF-IDF), cela est tout à fait faisable sur des machines disposant de ressources suffisantes."
   ]
  },
  {
   "cell_type": "code",
   "execution_count": null,
   "metadata": {
    "executionInfo": {
     "elapsed": 28,
     "status": "ok",
     "timestamp": 1747753925501,
     "user": {
      "displayName": "Fabien Cappelli",
      "userId": "13665664238437409195"
     },
     "user_tz": -60
    },
    "id": "O-SF2rrwxrHp"
   },
   "outputs": [],
   "source": [
    "pipeline = Pipeline([\n",
    "    ('tfidf', TfidfVectorizer()),\n",
    "    ('lr', LogisticRegression(solver='liblinear'))\n",
    "])"
   ]
  },
  {
   "cell_type": "code",
   "execution_count": null,
   "metadata": {
    "executionInfo": {
     "elapsed": 5,
     "status": "ok",
     "timestamp": 1747753925503,
     "user": {
      "displayName": "Fabien Cappelli",
      "userId": "13665664238437409195"
     },
     "user_tz": -60
    },
    "id": "wsaTF0usx88g"
   },
   "outputs": [],
   "source": [
    "# Définition de la grille d'hyperparamètres\n",
    "param_grid = {\n",
    "    'tfidf__min_df': [0.02, 0.05, 0.07, 0.1],\n",
    "    'tfidf__max_df': [0.8, 0.9, 0.95, 1.0],\n",
    "    'tfidf__ngram_range': [(1, 1), (1, 2)],\n",
    "    'lr__C': [0.1, 1, 10]\n",
    "}"
   ]
  },
  {
   "cell_type": "code",
   "execution_count": null,
   "metadata": {
    "colab": {
     "base_uri": "https://localhost:8080/"
    },
    "executionInfo": {
     "elapsed": 17529539,
     "status": "ok",
     "timestamp": 1747771455039,
     "user": {
      "displayName": "Fabien Cappelli",
      "userId": "13665664238437409195"
     },
     "user_tz": -60
    },
    "id": "69lwYar5050W",
    "outputId": "323e19e2-4661-486a-8e1b-a13a0dc37a08"
   },
   "outputs": [],
   "source": [
    "grid_search = GridSearchCV(pipeline, param_grid, cv=5, n_jobs=1, scoring='accuracy')\n",
    "\n",
    "mlflow.set_experiment(\"TFIDF_LogisticRegression_with_Metrics\")\n",
    "\n",
    "with mlflow.start_run():\n",
    "\n",
    "    grid_search.fit(X_train, y_train)\n",
    "\n",
    "    best_model = grid_search.best_estimator_\n",
    "\n",
    "    # Mesurer le temps d'inférence sur le set de test\n",
    "    start_time = time.time()\n",
    "    y_pred = best_model.predict(X_test)\n",
    "    total_ms = (time.time() - start_time) * 1000\n",
    "    inf_ms_per_sample = total_ms / len(X_test)\n",
    "\n",
    "    # Calcul des métriques\n",
    "    accuracy = accuracy_score(y_test, y_pred)\n",
    "    f1 = f1_score(y_test, y_pred)\n",
    "\n",
    "    # Pour le ROC AUC, on utilise decision_function\n",
    "    y_scores = best_model.decision_function(X_test)\n",
    "    roc_auc = roc_auc_score(y_test, y_scores)\n",
    "\n",
    "    # Log des paramètres et métriques dans MLflow\n",
    "    mlflow.log_params(grid_search.best_params_)\n",
    "    mlflow.log_metric(\"test_accuracy\", accuracy)\n",
    "    mlflow.log_metric(\"test_f1\", f1)\n",
    "    mlflow.log_metric(\"test_roc_auc\", roc_auc)\n",
    "    mlflow.log_metric(\"test_inference_time_ms_per_sample\", inf_ms_per_sample)\n",
    "\n",
    "    # Créer un exemple d'entrée. Ici, un échantillon du texte\n",
    "    input_example = X_test.iloc[:5].tolist()\n",
    "\n",
    "    # Produire des prédictions pour inférer la signature\n",
    "    predictions = best_model.predict(input_example)\n",
    "\n",
    "    # Inférer la signature du modèle\n",
    "    signature = infer_signature(input_example, predictions)\n",
    "\n",
    "    # Log le modèle de manière à pouvoir le rappeler\n",
    "    mlflow.sklearn.log_model(\n",
    "        sk_model=best_model,\n",
    "        artifact_path=\"model\",\n",
    "        signature=signature,\n",
    "        input_example=input_example,\n",
    "        registered_model_name=\"MyModel\"\n",
    "    )\n",
    "\n",
    "    print(\"Meilleurs paramètres :\", grid_search.best_params_)\n",
    "    print(\"Accuracy :\", accuracy)\n",
    "    print(\"F1-score :\", f1)\n",
    "    print(\"ROC AUC :\", roc_auc)\n",
    "    print(\"Temps d'inférence (millisecondes) :\", inf_ms_per_sample)"
   ]
  },
  {
   "cell_type": "markdown",
   "metadata": {
    "id": "XZl0lwVKn1r1"
   },
   "source": [
    "## Lemmatization avec Spacy"
   ]
  },
  {
   "cell_type": "code",
   "execution_count": null,
   "metadata": {
    "executionInfo": {
     "elapsed": 14986248,
     "status": "ok",
     "timestamp": 1747786441235,
     "user": {
      "displayName": "Fabien Cappelli",
      "userId": "13665664238437409195"
     },
     "user_tz": -60
    },
    "id": "kgdsJFbXOqlH"
   },
   "outputs": [],
   "source": [
    "# Charger le modèle de spaCy\n",
    "# en_core_web_sm, en_core_web_md, en_core_web_lg\n",
    "nlp = spacy.load(\"en_core_web_sm\")\n",
    "\n",
    "def spacy_tokenizer(text):\n",
    "    doc = nlp(text)\n",
    "    # Conserver uniquement les tokens alphanumériques, en minuscules, lemmatisés, sans stopwords ni ponctuation\n",
    "    tokens = [token.lemma_.lower() for token in doc if token.is_alpha and not token.is_stop and not token.is_punct]\n",
    "    return \" \".join(tokens)\n",
    "\n",
    "# Appliquer le prétraitement à la colonne 'document'\n",
    "df_cleaned['document_clean'] = df_cleaned['text'].apply(spacy_tokenizer)"
   ]
  },
  {
   "cell_type": "code",
   "execution_count": null,
   "metadata": {
    "executionInfo": {
     "elapsed": 426,
     "status": "ok",
     "timestamp": 1747786441656,
     "user": {
      "displayName": "Fabien Cappelli",
      "userId": "13665664238437409195"
     },
     "user_tz": -60
    },
    "id": "aIpoSCfQnGNe"
   },
   "outputs": [],
   "source": [
    "# Division en jeu d'entraînement et de test\n",
    "X = df_cleaned['document_clean']\n",
    "y = df_cleaned['target']\n",
    "X_train, X_test, y_train, y_test = train_test_split(X, y, test_size=0.2, random_state=34)"
   ]
  },
  {
   "cell_type": "code",
   "execution_count": null,
   "metadata": {
    "colab": {
     "base_uri": "https://localhost:8080/"
    },
    "executionInfo": {
     "elapsed": 8352182,
     "status": "ok",
     "timestamp": 1747794793839,
     "user": {
      "displayName": "Fabien Cappelli",
      "userId": "13665664238437409195"
     },
     "user_tz": -60
    },
    "id": "Ri6VRNcmO_Nk",
    "outputId": "0f03dc9a-9393-49ee-b0bf-0dfb330fb78c"
   },
   "outputs": [],
   "source": [
    "grid_search = GridSearchCV(pipeline, param_grid, cv=5, n_jobs=1, scoring='accuracy')\n",
    "\n",
    "mlflow.set_experiment(\"TFIDF_LogisticRegression_with_Metrics_Spacy_Tokens\")\n",
    "\n",
    "with mlflow.start_run():\n",
    "\n",
    "    grid_search.fit(X_train, y_train)\n",
    "\n",
    "    best_model = grid_search.best_estimator_\n",
    "\n",
    "    # Mesurer le temps d'inférence sur le set de test\n",
    "    start_time = time.time()\n",
    "    y_pred = best_model.predict(X_test)\n",
    "    total_ms = (time.time() - start_time) * 1000\n",
    "    inf_ms_per_sample = total_ms / len(X_test)\n",
    "\n",
    "    # Calcul des métriques\n",
    "    accuracy = accuracy_score(y_test, y_pred)\n",
    "    f1 = f1_score(y_test, y_pred)\n",
    "\n",
    "    # Pour le ROC AUC, on utilise decision_function\n",
    "    y_scores = best_model.decision_function(X_test)\n",
    "    roc_auc = roc_auc_score(y_test, y_scores)\n",
    "\n",
    "    # Log des paramètres et métriques dans MLflow\n",
    "    mlflow.log_params(grid_search.best_params_)\n",
    "    mlflow.log_metric(\"test_accuracy\", accuracy)\n",
    "    mlflow.log_metric(\"test_f1\", f1)\n",
    "    mlflow.log_metric(\"test_roc_auc\", roc_auc)\n",
    "    mlflow.log_metric(\"test_inference_time_ms_per_sample\", inf_ms_per_sample)\n",
    "\n",
    "    # Créer un exemple d'entrée. Ici, un échantillon du texte\n",
    "    input_example = X_test.iloc[:5].tolist()\n",
    "\n",
    "    # Produire des prédictions pour inférer la signature\n",
    "    predictions = best_model.predict(input_example)\n",
    "\n",
    "    # Inférer la signature du modèle\n",
    "    signature = infer_signature(input_example, predictions)\n",
    "\n",
    "    # Log le modèle de manière à pouvoir le rappeler\n",
    "    mlflow.sklearn.log_model(\n",
    "        sk_model=best_model,\n",
    "        artifact_path=\"model\",\n",
    "        signature=signature,\n",
    "        input_example=input_example,\n",
    "        registered_model_name=\"MyModel\"\n",
    "    )\n",
    "\n",
    "    print(\"Meilleurs paramètres :\", grid_search.best_params_)\n",
    "    print(\"Accuracy :\", accuracy)\n",
    "    print(\"F1-score :\", f1)\n",
    "    print(\"ROC AUC :\", roc_auc)\n",
    "    print(\"Temps d'inférence (millisecondes) :\", inf_ms_per_sample)"
   ]
  }
 ],
 "metadata": {
  "colab": {
   "authorship_tag": "ABX9TyMiE1JyZ1SRtYIgkA4jptJm",
   "mount_file_id": "1PISxPi1uSBjVB32-4J98SmCUvOFntziH",
   "provenance": []
  },
  "kernelspec": {
   "display_name": "Python 3 (ipykernel)",
   "language": "python",
   "name": "python3"
  },
  "language_info": {
   "codemirror_mode": {
    "name": "ipython",
    "version": 3
   },
   "file_extension": ".py",
   "mimetype": "text/x-python",
   "name": "python",
   "nbconvert_exporter": "python",
   "pygments_lexer": "ipython3",
   "version": "3.12.5"
  }
 },
 "nbformat": 4,
 "nbformat_minor": 4
}
